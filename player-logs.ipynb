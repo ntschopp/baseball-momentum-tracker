{
 "cells": [
  {
   "cell_type": "code",
   "execution_count": 1,
   "id": "0c6686f2",
   "metadata": {},
   "outputs": [],
   "source": [
    "import pandas as pd"
   ]
  },
  {
   "cell_type": "code",
   "execution_count": 43,
   "id": "e520538a",
   "metadata": {},
   "outputs": [
    {
     "output_type": "stream",
     "name": "stderr",
     "text": [
      "C:\\Users\\soxsu\\.virtualenvs\\Baseball-erwbNPjA\\lib\\site-packages\\IPython\\core\\interactiveshell.py:3169: DtypeWarning: Columns (9,10) have mixed types.Specify dtype option on import or set low_memory=False.\n  has_raised = await self.run_ast_nodes(code_ast.body, cell_name,\n"
     ]
    },
    {
     "output_type": "execute_result",
     "data": {
      "text/plain": [
       "      name_first name_last  key_bbref\n",
       "43296       Kris    Bryant  bryankr01"
      ],
      "text/html": "<div>\n<style scoped>\n    .dataframe tbody tr th:only-of-type {\n        vertical-align: middle;\n    }\n\n    .dataframe tbody tr th {\n        vertical-align: top;\n    }\n\n    .dataframe thead th {\n        text-align: right;\n    }\n</style>\n<table border=\"1\" class=\"dataframe\">\n  <thead>\n    <tr style=\"text-align: right;\">\n      <th></th>\n      <th>name_first</th>\n      <th>name_last</th>\n      <th>key_bbref</th>\n    </tr>\n  </thead>\n  <tbody>\n    <tr>\n      <th>43296</th>\n      <td>Kris</td>\n      <td>Bryant</td>\n      <td>bryankr01</td>\n    </tr>\n  </tbody>\n</table>\n</div>"
     },
     "metadata": {},
     "execution_count": 43
    }
   ],
   "source": [
    "df = pd.read_csv(\"../../bbref-ids.csv\")\n",
    "bbref = df[(df[\"key_bbref\"].isnull() == False) & (df[\"mlb_played_last\"] == 2021)][[\"name_first\", \"name_last\", \"key_bbref\"]]\n",
    "bbref[bbref[\"name_last\"] == \"Bryant\"]"
   ]
  },
  {
   "cell_type": "code",
   "execution_count": 39,
   "id": "46646a8e",
   "metadata": {},
   "outputs": [
    {
     "output_type": "execute_result",
     "data": {
      "text/plain": [
       "['Alex De Goti',\n",
       " 'Vladimir Guerrero',\n",
       " 'Cedric Mullins II',\n",
       " 'Fernando Tatis',\n",
       " 'Ronald Acuna',\n",
       " 'Lourdes Gurriel',\n",
       " 'Michael A. Taylor',\n",
       " 'LaMonte Wade',\n",
       " 'Tommy La Stella',\n",
       " 'Shed Long',\n",
       " 'Daniel Johnson',\n",
       " 'Jackie Bradley',\n",
       " 'Steven Souza',\n",
       " 'Troy Stokes',\n",
       " 'Albert Almora',\n",
       " 'Hoy Jun Park']"
      ]
     },
     "metadata": {},
     "execution_count": 39
    }
   ],
   "source": [
    "players = pd.read_csv(\"../../../../Downloads/FanGraphs Leaderboard.csv\")\n",
    "suffixes = []\n",
    "for i in players[\"Name\"]:\n",
    "    try:\n",
    "        i.split()[2]\n",
    "        suffixes.append(i)\n",
    "    except:\n",
    "        pass\n",
    "for i,v in enumerate(suffixes):\n",
    "    for j in v.split():\n",
    "        if j.endswith(\".\"):\n",
    "            suffixes[i] = suffixes[i].rstrip(\" \"+j)\n",
    "suffixes"
   ]
  },
  {
   "cell_type": "code",
   "execution_count": 44,
   "id": "f72bc2df",
   "metadata": {},
   "outputs": [
    {
     "output_type": "stream",
     "name": "stderr",
     "text": [
      "<ipython-input-44-f8610f21f258>:7: SettingWithCopyWarning: \nA value is trying to be set on a copy of a slice from a DataFrame.\nTry using .loc[row_indexer,col_indexer] = value instead\n\nSee the caveats in the documentation: https://pandas.pydata.org/pandas-docs/stable/user_guide/indexing.html#returning-a-view-versus-a-copy\n  recent[i] = recent[i].astype('int64')\n"
     ]
    },
    {
     "output_type": "execute_result",
     "data": {
      "text/plain": [
       "SLG%    0.432\n",
       "BIP%    0.703\n",
       "HIT     0.304\n",
       "dtype: object"
      ]
     },
     "metadata": {},
     "execution_count": 44
    }
   ],
   "source": [
    "game_logs = pd.read_html(\"https://www.baseball-reference.com/players/gl.fcgi?id=bryankr01\", parse_dates=True)[4][:-1]\n",
    "game_logs = game_logs[[i.isnumeric() for i in game_logs[\"PA\"]]]\n",
    "game_logs = game_logs[[\"Date\", \"PA\", \"AB\", \"H\", \"2B\", \"3B\", \"HR\", \"BB\", \"SO\", \"SF\"]]\n",
    "recent = game_logs[-10:]\n",
    "\n",
    "for i in recent.columns[1:]:\n",
    "    recent[i] = recent[i].astype('int64')\n",
    "totals = recent.aggregate('sum')[1:]\n",
    "totals[\"SLG%\"] = round((totals[\"H\"]+totals[\"2B\"]+totals[\"3B\"]*2+totals[\"HR\"]*3)/totals[\"PA\"],3)\n",
    "totals[\"BIP%\"] = round((totals[\"AB\"]-totals[\"SO\"]+totals[\"SF\"])/totals[\"PA\"],3)\n",
    "totals[\"HIT\"] = round(totals[\"SLG%\"]*totals[\"BIP%\"],3)\n",
    "totals[[\"SLG%\",\"BIP%\",\"HIT\"]]"
   ]
  },
  {
   "cell_type": "code",
   "execution_count": null,
   "metadata": {},
   "outputs": [],
   "source": []
  }
 ],
 "metadata": {
  "kernelspec": {
   "name": "python3",
   "display_name": "Python 3.9.2 64-bit ('Baseball-erwbNPjA': pipenv)"
  },
  "language_info": {
   "codemirror_mode": {
    "name": "ipython",
    "version": 3
   },
   "file_extension": ".py",
   "mimetype": "text/x-python",
   "name": "python",
   "nbconvert_exporter": "python",
   "pygments_lexer": "ipython3",
   "version": "3.9.2"
  },
  "interpreter": {
   "hash": "999e0928073a3ce08526b3191589bbfca68140cfe243337e7bc7c08c78b26cf2"
  }
 },
 "nbformat": 4,
 "nbformat_minor": 5
}