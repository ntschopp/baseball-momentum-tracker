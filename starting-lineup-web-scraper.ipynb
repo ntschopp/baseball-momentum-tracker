{
 "cells": [
  {
   "cell_type": "code",
   "execution_count": 1,
   "id": "02d0be93",
   "metadata": {},
   "outputs": [],
   "source": [
    "import pandas as pd\n",
    "from datetime import datetime\n",
    "from lxml import html\n",
    "import requests"
   ]
  },
  {
   "cell_type": "code",
   "execution_count": 2,
   "id": "7e0828e9",
   "metadata": {},
   "outputs": [],
   "source": [
    "page = requests.get(\"https://www.rotowire.com/baseball/daily-lineups.php\")\n",
    "tree = html.fromstring(page.content)"
   ]
  },
  {
   "cell_type": "code",
   "execution_count": 3,
   "id": "17bb631a",
   "metadata": {},
   "outputs": [
    {
     "name": "stdout",
     "output_type": "stream",
     "text": [
      "['Tommy Pham', 'Manny Machado', 'Odubel Herrera', 'Brandon Nimmo', 'SD', 'PHI', 'NYM']\n"
     ]
    }
   ],
   "source": [
    "# MU1 Away1\n",
    "mu1a1 = tree.xpath(f\"/html/body/div[1]/div/main/div[2]/div[1]/div[2]/div[2]/ul[1]/li[3]/a\")[0].get(\"title\")\n",
    "# MU1 Away2\n",
    "mu1a2 = tree.xpath(f\"/html/body/div[1]/div/main/div[2]/div[1]/div[2]/div[2]/ul[1]/li[5]/a\")[0].get(\"title\")\n",
    "# MU1 Home1\n",
    "mu1h1 = tree.xpath(f\"/html/body/div[1]/div/main/div[2]/div[1]/div[2]/div[2]/ul[2]/li[3]/a\")[0].get(\"title\")\n",
    "# MU2 Away1\n",
    "mu2a1 = tree.xpath(f\"/html/body/div[1]/div/main/div[2]/div[2]/div[2]/div[2]/ul[1]/li[3]/a\")[0].get(\"title\")\n",
    "\n",
    "away_tm1 = tree.xpath(f\"/html/body/div[1]/div/main/div[2]/div[1]/div[2]/div[1]/div/div[1]/div/text()\")[0]\n",
    "home_tm1 = tree.xpath(f\"/html/body/div[1]/div/main/div[2]/div[1]/div[2]/div[1]/div/div[2]/div/text()\")[0]\n",
    "away_tm2 = tree.xpath(f\"/html/body/div[1]/div/main/div[2]/div[2]/div[2]/div[1]/div/div[1]/div/text()\")[0]\n",
    "print([mu1a1, mu1a2, mu1h1, mu2a1, away_tm1, home_tm1, away_tm2])"
   ]
  },
  {
   "cell_type": "code",
   "execution_count": 4,
   "id": "d951709e",
   "metadata": {},
   "outputs": [],
   "source": [
    "lineups = {}\n",
    "for MU in range(1,20):\n",
    "    for h_a in range(1,3):\n",
    "        team = tree.xpath(f\"/html/body/div[1]/div/main/div[2]/div[{MU}]/div[2]/div[1]/div/div[{h_a}]/div/text()\")\n",
    "        pitcher = tree.xpath(f\"/html/body/div[1]/div/main/div[2]/div[{MU}]/div[2]/div[2]/ul[{h_a}]/li[1]/div[1]/a/text()\")\n",
    "        if team != []:\n",
    "            lineups[team[0]] = {\"SP\": \"\", \"lineup\": []}\n",
    "        if pitcher != []:\n",
    "            lineups[team[0]][\"SP\"] += pitcher[0]\n",
    "        for order in range(3,20):\n",
    "            hitter = tree.xpath(f\"/html/body/div[1]/div/main/div[2]/div[{MU}]/div[2]/div[2]/ul[{h_a}]/li[{order}]/a\")\n",
    "            if (hitter != []) and (order%2 == 1):\n",
    "                lineups[team[0]][\"lineup\"].append(hitter[0].get(\"title\"))\n",
    "        \n",
    "# lineups"
   ]
  },
  {
   "cell_type": "code",
   "execution_count": 5,
   "id": "d58356c7",
   "metadata": {},
   "outputs": [],
   "source": [
    "def get_lineups(site):\n",
    "    \"\"\"\n",
    "    Creates a nested dictionary containing each\n",
    "    team's starting pitcher and starting lineup.\n",
    "    \"\"\"\n",
    "    # Retrieve information from site\n",
    "    page = requests.get(site)\n",
    "    tree = html.fromstring(page.content)\n",
    "    \n",
    "    # team, pitcher, & hitter variables provide html code values from the site\n",
    "    lineups = {}\n",
    "    for MU in range(1,20): # matchup variable\n",
    "        for h_a in range(1,3): # home/away variable\n",
    "            team = tree.xpath(f\"/html/body/div[1]/div/main/div[2]/div[{MU}]/div[2]/div[1]/div/div[{h_a}]/div/text()\")\n",
    "            pitcher = tree.xpath(f\"/html/body/div[1]/div/main/div[2]/div[{MU}]/div[2]/div[2]/ul[{h_a}]/li[1]/div[1]/a/text()\")\n",
    "\n",
    "            if team != []:\n",
    "                lineups[team[0]] = {\"SP\": \"\", \"lineup\": []}\n",
    "                \n",
    "            if pitcher != []:\n",
    "                lineups[team[0]][\"SP\"] += pitcher[0]\n",
    "                \n",
    "            for order in range(3,20): # batting order variable\n",
    "                hitter = tree.xpath(f\"/html/body/div[1]/div/main/div[2]/div[{MU}]/div[2]/div[2]/ul[{h_a}]/li[{order}]/a\")\n",
    "                \n",
    "                if (hitter != []) and (order%2 == 1): # values start at 3rd html list and move up by two\n",
    "                    lineups[team[0]][\"lineup\"].append(hitter[0].get(\"title\"))\n",
    "        \n",
    "    return lineups\n",
    "\n",
    "\n",
    "starting_lineups = get_lineups(\"https://www.rotowire.com/baseball/daily-lineups.php\")"
   ]
  },
  {
   "cell_type": "code",
   "execution_count": 20,
   "id": "c76ecd92",
   "metadata": {},
   "outputs": [
    {
     "data": {
      "text/plain": [
       "11374"
      ]
     },
     "execution_count": 20,
     "metadata": {},
     "output_type": "execute_result"
    }
   ],
   "source": [
    "int(tree.xpath(f\"/html/body/div[1]/div/main/div[2]/div[1]/div[2]/div[2]/ul[1]/li[3]/a\")[0].get(\"href\").split(\"=\")[1])\n",
    "# tree.xpath(f\"/html/body/div[1]/div/main/div[2]/div[1]/div[2]/div[2]/ul[1]/li[3]/a\")[0].get(\"title\")"
   ]
  },
  {
   "cell_type": "code",
   "execution_count": 18,
   "id": "72cf0e2b",
   "metadata": {},
   "outputs": [
    {
     "data": {
      "text/plain": [
       "'Alec Mills'"
      ]
     },
     "execution_count": 18,
     "metadata": {},
     "output_type": "execute_result"
    }
   ],
   "source": [
    "starting_lineups[\"CHC\"][\"SP\"]"
   ]
  },
  {
   "cell_type": "code",
   "execution_count": null,
   "id": "b396c381",
   "metadata": {},
   "outputs": [],
   "source": []
  }
 ],
 "metadata": {
  "kernelspec": {
   "display_name": "Python 3",
   "language": "python",
   "name": "python3"
  },
  "language_info": {
   "codemirror_mode": {
    "name": "ipython",
    "version": 3
   },
   "file_extension": ".py",
   "mimetype": "text/x-python",
   "name": "python",
   "nbconvert_exporter": "python",
   "pygments_lexer": "ipython3",
   "version": "3.9.2"
  }
 },
 "nbformat": 4,
 "nbformat_minor": 5
}
